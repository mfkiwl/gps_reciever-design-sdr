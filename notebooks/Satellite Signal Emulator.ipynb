{
 "cells": [
  {
   "cell_type": "markdown",
   "metadata": {},
   "source": [
    "# Satellite Signal Emulator\n",
    "#### This signal generator mimics the raw signal coming from a GPS satellite"
   ]
  },
  {
   "cell_type": "markdown",
   "metadata": {},
   "source": [
    "## Imports and definitions\n",
    "#### The book defines some parameters, here they are initialized as variables, but they may not be used yet."
   ]
  },
  {
   "cell_type": "code",
   "execution_count": 2,
   "metadata": {
    "collapsed": true
   },
   "outputs": [],
   "source": [
    "import numpy as np\n",
    "import matplotlib.pyplot as plt\n",
    "import math\n",
    "\n",
    "# Some definitions and initialization of variables\n",
    "\n",
    "# GPS fundamental frequency = 10.23MHz\n",
    "f0 = 10.23 *10**6\n",
    "# L1 carrier frequency is 154 * the fundamental GPS frequency\n",
    "fL1 = 154*f0 #Hz\n",
    "# Doppler shift\n",
    "doppler = 0 #Hz\n",
    "# Sampling frequency MUST BE 38.192MHz per Borre pg77\n",
    "sampFreq = 38.193 *10**6\n",
    "# Frequency step gives resolution bandwidth for the search range of +-10kHz, per Borre pg26\n",
    "freqStep = 20 #Hz"
   ]
  },
  {
   "cell_type": "markdown",
   "metadata": {},
   "source": [
    "## Generation of the signals"
   ]
  },
  {
   "cell_type": "code",
   "execution_count": 6,
   "metadata": {
    "collapsed": false
   },
   "outputs": [],
   "source": [
    "# Time vector for generating signals\n",
    "tLength = 0.001 # units = sec - must have length of 1ms per Borre pg77\n",
    "N = 38192 # Number of samples over 1ms at 38.192MHz sampling frequency\n",
    "samples = np.linspace(0, N, N) # array of samples\n",
    "#t = samples/N # units = sec - must have length of 1ms per Borre pg77\n",
    "n = 1 # For tSlice variable in for loop for CW generation\n",
    "\n",
    "# L1 continuous wave generation\n",
    "IL1 = []\n",
    "QL1 = []\n",
    "for i in samples:\n",
    "    tSlice = n * tLength/N # Time slice\n",
    "    # I and Q are the in-phase and quadrature components of the L1 GPS signal, respectively ***samples/N = t***\n",
    "    I = np.cos(2*math.pi *fL1 *tSlice + doppler) + 1j*np.sin(2*math.pi *fL1 *tSlice + doppler)\n",
    "    Q = np.sin(2*math.pi *fL1 *tSlice + doppler) + 1j*np.cos(2*math.pi *fL1 *tSlice + doppler)\n",
    "        \n",
    "    IL1.append(I)\n",
    "    QL1.append(Q)\n",
    "    n += 1"
   ]
  },
  {
   "cell_type": "markdown",
   "metadata": {},
   "source": [
    "## Plotting"
   ]
  },
  {
   "cell_type": "code",
   "execution_count": null,
   "metadata": {
    "collapsed": true
   },
   "outputs": [],
   "source": [
    "#plt.plot(t, real(IL1))\n",
    "#plt.plot(t, real(QL1))\n",
    "#plt.show()"
   ]
  },
  {
   "cell_type": "code",
   "execution_count": null,
   "metadata": {
    "collapsed": true
   },
   "outputs": [],
   "source": []
  }
 ],
 "metadata": {
  "kernelspec": {
   "display_name": "Python 3",
   "language": "python",
   "name": "python3"
  },
  "language_info": {
   "codemirror_mode": {
    "name": "ipython",
    "version": 3
   },
   "file_extension": ".py",
   "mimetype": "text/x-python",
   "name": "python",
   "nbconvert_exporter": "python",
   "pygments_lexer": "ipython3",
   "version": "3.5.2"
  }
 },
 "nbformat": 4,
 "nbformat_minor": 2
}
